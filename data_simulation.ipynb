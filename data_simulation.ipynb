{
 "cells": [
  {
   "cell_type": "code",
   "execution_count": 2,
   "metadata": {},
   "outputs": [
    {
     "name": "stdout",
     "output_type": "stream",
     "text": [
      "/Users/pavelmyznikov/Documents/random_trips_london\n"
     ]
    }
   ],
   "source": [
    "\n",
    "import os,subprocess,sys,shutil\n",
    "import pandas as pd\n",
    "print(os.path.abspath(''))\n",
    "\n",
    "from subprocess import run, PIPE, STDOUT\n",
    "\n",
    "try:\n",
    "    sys.path.append(os.path.join(os.path.abspath(''), '..', '..', '..', '..', \"tools\")) # tutorial in tests\n",
    "    sys.path.append(os.path.join(os.path.abspath(''), '..', '..', '..', '..', \"tools\",\"xml\")) # xml converter\n",
    "    sys.path.append(os.path.join(os.environ.get(\"SUMO_HOME\", os.path.join(os.path.abspath(''), \"..\", \"..\", \"..\")), \"tools\")) # tutorial in docs\n",
    "    from sumolib import checkBinary\n",
    "except ImportError:    \n",
    "    sys.exit(\"please declare environment variable 'SUMO_HOME' as the root directory of your sumo installation (it should contain folders 'bin', 'tools' and 'docs')\")\n",
    "\n",
    "netconvertBinary = checkBinary('netconvert')\n",
    "sumoBinary = checkBinary('sumo')\n"
   ]
  },
  {
   "cell_type": "code",
   "execution_count": 2,
   "metadata": {},
   "outputs": [
    {
     "name": "stdout",
     "output_type": "stream",
     "text": [
      "Success.\n",
      "\n",
      "\n",
      "Warning: Discarding unknown compound 'usage.main' in type 'railway.rail|usage.main' (first occurence for edge '23365179').\n",
      "Warning: Discarding unknown compound 'cycleway.lane' in type 'cycleway.lane|highway.secondary' (first occurence for edge '26445203').\n",
      "Warning: Discarding unknown compound 'cycleway.lane' in type 'cycleway.lane|cycleway.lane|highway.residential' (first occurence for edge '31294043').\n",
      "Warning: Discarding unknown compound 'cycleway.lane' in type 'cycleway.lane|cycleway.lane|highway.residential' (first occurence for edge '31294043').\n",
      "Warning: Discarding unusable type 'railway.platform' (first occurence for edge '62095207').\n",
      "Warning: Discarding unusable type 'railway.abandoned' (first occurence for edge '142286179').\n",
      "Warning: Discarding unknown compound 'usage.branch' in type 'railway.rail|usage.branch' (first occurence for edge '147702304').\n",
      "Warning: Discarding unusable type 'waterway.river' (first occurence for edge '493538528').\n",
      "Warning: No way found for reference '474401561' in relation '6975236'\n",
      "Warning: No way found for reference '474401562' in relation '6975236'\n",
      "Warning: Ignoring restriction relation '6975236' with unknown from-way.\n",
      "Warning: Ignoring restriction relation '6975236' with unknown to-way.\n",
      "Warning: No way found for reference '474605413' in relation '6980395'\n",
      "Warning: Ignoring restriction relation '6980395' with unknown from-way.\n",
      "Warning: No way found for reference '474605413' in relation '6980396'\n",
      "Warning: Ignoring restriction relation '6980396' with unknown from-way.\n",
      "Warning: No way found for reference '474835602' in relation '6983483'\n",
      "Warning: No way found for reference '474835603' in relation '6983483'\n",
      "Warning: Ignoring restriction relation '6983483' with unknown from-way.\n",
      "Warning: Ignoring restriction relation '6983483' with unknown to-way.\n",
      "Warning: No way found for reference '184855207' in relation '7008515'\n",
      "Warning: No way found for reference '474401569' in relation '7008515'\n",
      "Warning: Ignoring restriction relation '7008515' with unknown from-way.\n",
      "Warning: Ignoring restriction relation '7008515' with unknown to-way.\n",
      "Warning: No way found for reference '490926550' in relation '7211474'\n",
      "Warning: No way found for reference '490926551' in relation '7211474'\n",
      "Warning: Ignoring restriction relation '7211474' with unknown type.\n",
      "Warning: Ignoring restriction relation '7211474' with unknown from-way.\n",
      "Warning: Ignoring restriction relation '7211474' with unknown to-way.\n",
      "Warning: Ignoring restriction relation '7215204' with unknown type.\n",
      "Warning: Ignoring restriction relation '7219182' with unknown type.\n",
      "Warning: Ignoring restriction relation '7219183' with unknown type.\n",
      "Warning: Ignoring restriction relation '7219184' with unknown type.\n",
      "Warning: Ignoring restriction relation '7219185' with unknown type.\n",
      "Warning: Ignoring restriction relation '7219192' with unknown type.\n",
      "Warning: Ignoring restriction relation '7219198' with unknown type.\n",
      "Warning: Ignoring restriction relation '7219203' with unknown type.\n",
      "Warning: Ignoring restriction relation '7219204' with unknown type.\n",
      "Warning: Ignoring restriction relation '7219205' with unknown type.\n",
      "Warning: Ignoring restriction relation '7219206' with unknown type.\n",
      "Warning: No way found for reference '314402763' in relation '7237602'\n",
      "Warning: Ignoring restriction relation '7237602' with unknown from-way.\n",
      "Warning: No way found for reference '314402763' in relation '7237603'\n",
      "Warning: No way found for reference '314402764' in relation '7237603'\n",
      "Warning: Ignoring restriction relation '7237603' with unknown from-way.\n",
      "Warning: Ignoring restriction relation '7237603' with unknown to-way.\n",
      "Warning: No way found for reference '37319201' in relation '7237618'\n",
      "Warning: Ignoring restriction relation '7237618' with unknown to-way.\n",
      "Warning: Ambiguity in turnarounds computation at junction '1490572615'.\n",
      "Warning: Ambiguity in turnarounds computation at junction '6868605847'.\n",
      "Warning: Ambiguity in turnarounds computation at junction '6899018780'.\n",
      "Warning: Ambiguity in turnarounds computation at junction '7025752029'.\n",
      "Warning: Found sharp turn with radius 4.86 at the start of edge '-119059133#2'.\n",
      "Warning: Found sharp turn with radius 4.71 at the end of edge '-119059133#3'.\n",
      "Warning: Found sharp turn with radius 6.20 at the start of edge '-119872809'.\n",
      "Warning: Found sharp turn with radius 2.67 at the start of edge '-135280988#1'.\n",
      "Warning: Found sharp turn with radius 6.71 at the start of edge '-139604767#0'.\n",
      "Warning: Found angle of 102.81 degrees at edge '-237290267#2', segment 0.\n",
      "Warning: Found sharp turn with radius 8.84 at the start of edge '-258791944#6'.\n",
      "Warning: Found sharp turn with radius 6.11 at the end of edge '-635811834#1'.\n",
      "Warning: Found sharp turn with radius 5.43 at the end of edge '-736885999#1'.\n",
      "Warning: Found sharp turn with radius 5.52 at the end of edge '-751842924#2'.\n",
      "Warning: Found angle of 109.37 degrees at edge '119872799#2', segment 0.\n",
      "Warning: Found sharp turn with radius 6.20 at the end of edge '119872809'.\n",
      "Warning: Found angle of 102.81 degrees at edge '237290267#2', segment 0.\n",
      "Warning: Shape for junction '303931231' has distance 51.38 to its given position.\n",
      "Warning: The traffic light '252527977' does not control any links; it will not be build.\n",
      "Warning: Could not build program '0' for traffic light '252527977'\n",
      "Warning: Minor green from edge '-25840020#0' to edge '102843057#0' exceeds 19.44m/s. Maybe a left-turn lane is missing.\n",
      "Warning: Speed of turning connection '62095205#2_0->147712916#1_0' reduced by 41.67 due to turning radius of 1.39 (length=1.45, angle=175.64).\n",
      "Warning: Connection '135778500#2_0->160248574#3_0' is only 0.09m short.\n",
      "Warning: Speed of straight connection '-147702324#0_0->24498394#0_0' reduced by 10.11 due to turning radius of 11.47 (length=2.32, angle=27.43).\n",
      "Warning: Speed of straight connection '-731991082_0->-27766849#2_0' reduced by 6.27 due to turning radius of 10.57 (length=4.02, angle=38.57).\n",
      "Warning: Speed of straight connection '474390603#1_0->465726378#0_0' reduced by 5.54 due to turning radius of 28.46 (length=12.36, angle=40.60).\n",
      "Warning: Speed of straight connection '476939820_0->410875457#2_1' reduced by 9.96 due to turning radius of 11.90 (length=5.52, angle=43.49).\n",
      "Warning: 10 total messages of type: Discarding unknown compound '%' in type '%' (first occurence for edge '%').\n",
      "Warning: 10 total messages of type: Found sharp turn with radius % at the end of edge '%'.\n",
      "Warning: 29 total messages of type: Found sharp turn with radius % at the start of edge '%'.\n",
      "\n",
      "\n",
      ">> Netbuilding closed with status 0\n"
     ]
    }
   ],
   "source": [
    "# build network from osm file\n",
    "osm_file = 'small_london.osm'\n",
    "retcode = subprocess.Popen([netconvertBinary, \"--osm-files\", f\"data/{osm_file}\",\"-o\",\"data/my_net.net.xml\"],stdout=PIPE,stderr=PIPE)\n",
    "for msg in retcode.communicate(): print(msg.decode('utf-8'), end='\\n\\n') \n",
    "try: shutil.copy(\"data/my_net.net.xml\", \"net.net.xml\")\n",
    "except: print(\"Missing 'my_net.net.xml'\")\n",
    "print(\">> Netbuilding closed with status %s\" % retcode.returncode)\n"
   ]
  },
  {
   "cell_type": "code",
   "execution_count": 3,
   "metadata": {},
   "outputs": [],
   "source": [
    "simulations_number = 1000"
   ]
  },
  {
   "cell_type": "code",
   "execution_count": 3,
   "metadata": {},
   "outputs": [],
   "source": [
    "from tqdm.notebook import trange, tqdm"
   ]
  },
  {
   "cell_type": "code",
   "execution_count": 9,
   "metadata": {},
   "outputs": [
    {
     "data": {
      "text/plain": [
       "<subprocess.Popen at 0x10b6b4a20>"
      ]
     },
     "execution_count": 9,
     "metadata": {},
     "output_type": "execute_result"
    }
   ],
   "source": [
    "subprocess.Popen(['ulimit', '-n', '1000'])"
   ]
  },
  {
   "cell_type": "code",
   "execution_count": null,
   "metadata": {
    "scrolled": false
   },
   "outputs": [],
   "source": [
    "dfs = []\n",
    "simulation_last = 440\n",
    "for i in trange(simulation_last, simulations_number):\n",
    "    # add random trips\n",
    "    retcode = subprocess.Popen([\"python\",'tools/randomTrips.py', \"-n\", \"data/my_net.net.xml\",\"-r\",\"data/my_rtrips.rou.xml\", \"-e\", \"2000\", \"-o\", \"simulation_data/trips/trips{}.xml\".format(str(i)), \"-l\"], stdout=PIPE,stderr=PIPE,close_fds=True)\n",
    "    for msg in retcode.communicate(): print(msg.decode('utf-8')) \n",
    "#     print(\">> Random trip generation closed with status %s\" % retcode.returncode)\n",
    "#     while not retcode.poll():\n",
    "#         try:\n",
    "#             retcode.wait(1)\n",
    "#         except subprocess.TimeoutExpired:\n",
    "#             continue\n",
    "    # run simulation\n",
    "    retcode = subprocess.Popen([sumoBinary, \"-c\", \"data/london.sumocfg\",\"--no-step-log\",\"--additional-files\",\"data/my_output.out.xml\"], stdout=PIPE,stderr=PIPE,close_fds=True)\n",
    "    for msg in retcode.communicate(): print(msg.decode('utf-8')) \n",
    "#     print(\">> Simulation closed with status %s\" % retcode.returncode)\n",
    "#     while not retcode.poll():\n",
    "#         try:\n",
    "#             retcode.wait(1)\n",
    "#         except subprocess.TimeoutExpired:\n",
    "#             continue\n",
    "        \n",
    "    # convert xml to csv\n",
    "    retcode = subprocess.Popen(['python','tools/xml/xml2csv.py','-s',',','data/edge_data.xml','--output',\"simulation_data/edges/edges{}.xml\".format(str(i))],stdout=PIPE,stderr=PIPE,close_fds=True)\n",
    "#     while not retcode.poll():\n",
    "#         try:\n",
    "#             retcode.wait(1)\n",
    "#         except subprocess.TimeoutExpired:\n",
    "#             continue\n",
    "    for msg in retcode.communicate(): print(msg.decode('utf-8')) \n",
    "#     print(\">> xml to  csv conversion closed with status %s\" % retcode.returncode)\n",
    "    \n",
    "#     dfs.append(pd.read_csv('data/edge_data.csv'))"
   ]
  },
  {
   "cell_type": "code",
   "execution_count": 4,
   "metadata": {},
   "outputs": [],
   "source": [
    "import pandas as pd\n",
    "import numpy as np\n",
    "import xml.etree.ElementTree as ET \n",
    "\n",
    "net_file = 'data/my_net.net.xml'\n",
    "\n",
    "\n",
    "class GridNet():\n",
    "    # take in a network file an returns a df with junctions grouped by a reactangular grid\n",
    "    # inputs:\n",
    "    #   net_file - a sumo net.xml file generated by netconverter \n",
    "    #   grid     - specifications of regcatngular grid (x,y) default=(32,32)  \n",
    "\n",
    "    def __init__(self, net_file, grid=(32,32)):\n",
    "        \n",
    "        self.net_file = net_file\n",
    "        self.grid = grid\n",
    "        \n",
    "        # parse network file in element tree\n",
    "        self.root = ET.parse(self.net_file).getroot()\n",
    "\n",
    "    def get_junctions(self):\n",
    "        # return a df of junctions with x and y locations \n",
    "        junctions = pd.DataFrame(columns =['x','y', 'id'])\n",
    "        i = 1\n",
    "        for child in self.root:\n",
    "            if child.tag == 'junction':\n",
    "                junctions.loc[i] = pd.Series({'x':float(child.attrib['x']),\n",
    "                                              'y':float(child.attrib['y']), \n",
    "                                              'id':str(child.attrib['id'])})\n",
    "                i+=1\n",
    "        return junctions\n",
    "    \n",
    "    def get_edges(self):\n",
    "        edges = pd.DataFrame(columns=['edge_id', 'junction_id'])\n",
    "        i = 1\n",
    "        for child in self.root:\n",
    "            if child.tag == 'edge' and 'from' in child.attrib:\n",
    "                edges.loc[i] = pd.Series({'edge_id': str(child.attrib['id']),\n",
    "                                         'junction_id': str(child.attrib['from'])\n",
    "                                         })\n",
    "                i += 1\n",
    "        return edges\n",
    "\n",
    "    def min_max_xy(self, junctions):\n",
    "        # return minimimum and maximums of x and y locations\n",
    "        stats = junctions.describe()\n",
    "        return stats['x']['min'], stats['x']['max'], stats['y']['min'], stats['y']['max']\n",
    "\n",
    "    def grid_net(self, junctions):\n",
    "        # get seperating sets (endpoints)\n",
    "        minX, maxX, minY, maxY = self.min_max_xy(junctions)\n",
    "        x_sep = np.linspace(minX, maxX, num=self.grid[0])\n",
    "        y_sep = np.linspace(minY, maxY, num=self.grid[1])\n",
    "        return x_sep, y_sep\n",
    "\n",
    "    def group_junctions(self):\n",
    "        junctions = self.get_junctions()\n",
    "        junctions['x'] = pd.cut(junctions['x'], self.grid[0], right=False, labels=range(self.grid[0]))\n",
    "        junctions['y'] = pd.cut(junctions['y'], self.grid[1], right=False, labels=range(self.grid[1]))\n",
    "        return junctions\n",
    "\n",
    "    def map_edges_coords(self):\n",
    "        edges = self.get_edges()\n",
    "        junctions = self.group_junctions()\n",
    "        return edges.merge(junctions, left_on='junction_id', right_on='id')[['edge_id', 'x', 'y']]\n",
    "\n"
   ]
  },
  {
   "cell_type": "code",
   "execution_count": 5,
   "metadata": {},
   "outputs": [],
   "source": [
    "net_file = 'data/my_net.net.xml'\n",
    "gn = GridNet(net_file)"
   ]
  },
  {
   "cell_type": "code",
   "execution_count": 6,
   "metadata": {
    "scrolled": true
   },
   "outputs": [
    {
     "ename": "ValueError",
     "evalue": "Buffer dtype mismatch, expected 'Python object' but got 'long'",
     "output_type": "error",
     "traceback": [
      "\u001b[0;31m---------------------------------------------------------------------------\u001b[0m",
      "\u001b[0;31mValueError\u001b[0m                                Traceback (most recent call last)",
      "\u001b[0;31mValueError\u001b[0m: Buffer dtype mismatch, expected 'Python object' but got 'long'"
     ]
    },
    {
     "name": "stderr",
     "output_type": "stream",
     "text": [
      "Exception ignored in: 'pandas._libs.lib.is_bool_array'\n",
      "ValueError: Buffer dtype mismatch, expected 'Python object' but got 'long'\n"
     ]
    },
    {
     "ename": "ValueError",
     "evalue": "Buffer dtype mismatch, expected 'Python object' but got 'long'",
     "output_type": "error",
     "traceback": [
      "\u001b[0;31m---------------------------------------------------------------------------\u001b[0m",
      "\u001b[0;31mValueError\u001b[0m                                Traceback (most recent call last)",
      "\u001b[0;31mValueError\u001b[0m: Buffer dtype mismatch, expected 'Python object' but got 'long'"
     ]
    },
    {
     "name": "stderr",
     "output_type": "stream",
     "text": [
      "Exception ignored in: 'pandas._libs.lib.is_bool_array'\n",
      "ValueError: Buffer dtype mismatch, expected 'Python object' but got 'long'\n"
     ]
    }
   ],
   "source": [
    "edges_coords = gn.map_edges_coords()"
   ]
  },
  {
   "cell_type": "code",
   "execution_count": 7,
   "metadata": {},
   "outputs": [],
   "source": [
    "from glob import glob\n",
    "flows_filenames = glob('simulation_data/edges/*.csv')\n",
    "flows_dataframes = []\n",
    "for i, flows_file in enumerate(flows_filenames):\n",
    "    flow_dataframe = pd.read_csv(flows_file)\n",
    "    flow_dataframe['sim_id'] = int(i)\n",
    "    flows_dataframes.append(flow_dataframe)\n",
    "\n",
    "flows = pd.concat(flows_dataframes)"
   ]
  },
  {
   "cell_type": "code",
   "execution_count": 28,
   "metadata": {},
   "outputs": [
    {
     "ename": "ValueError",
     "evalue": "Buffer dtype mismatch, expected 'Python object' but got 'long'",
     "output_type": "error",
     "traceback": [
      "\u001b[0;31m---------------------------------------------------------------------------\u001b[0m",
      "\u001b[0;31mValueError\u001b[0m                                Traceback (most recent call last)",
      "\u001b[0;31mValueError\u001b[0m: Buffer dtype mismatch, expected 'Python object' but got 'long'"
     ]
    },
    {
     "name": "stderr",
     "output_type": "stream",
     "text": [
      "Exception ignored in: 'pandas._libs.lib.is_bool_array'\n",
      "ValueError: Buffer dtype mismatch, expected 'Python object' but got 'long'\n"
     ]
    },
    {
     "ename": "ValueError",
     "evalue": "Buffer dtype mismatch, expected 'Python object' but got 'long'",
     "output_type": "error",
     "traceback": [
      "\u001b[0;31m---------------------------------------------------------------------------\u001b[0m",
      "\u001b[0;31mValueError\u001b[0m                                Traceback (most recent call last)",
      "\u001b[0;31mValueError\u001b[0m: Buffer dtype mismatch, expected 'Python object' but got 'long'"
     ]
    },
    {
     "name": "stderr",
     "output_type": "stream",
     "text": [
      "Exception ignored in: 'pandas._libs.lib.is_bool_array'\n",
      "ValueError: Buffer dtype mismatch, expected 'Python object' but got 'long'\n"
     ]
    }
   ],
   "source": [
    "flows = flows.merge(edges_coords)"
   ]
  },
  {
   "cell_type": "markdown",
   "metadata": {},
   "source": [
    "From documentation:\n",
    "\n",
    "The following <edgeData> values are all reasonable counts in that they count each vehicle only once but they include/exclude some special cases.\n",
    "\n",
    "- entered\n",
    "- entered + departed\n",
    "- left\n",
    "- left + arrived"
   ]
  },
  {
   "cell_type": "code",
   "execution_count": 8,
   "metadata": {},
   "outputs": [],
   "source": [
    "from sklearn import preprocessing"
   ]
  },
  {
   "cell_type": "code",
   "execution_count": 33,
   "metadata": {},
   "outputs": [
    {
     "data": {
      "text/plain": [
       "LabelEncoder()"
      ]
     },
     "execution_count": 33,
     "metadata": {},
     "output_type": "execute_result"
    }
   ],
   "source": [
    "le_times = preprocessing.LabelEncoder()\n",
    "le_times.fit(flows['interval_begin'].unique())\n",
    "# flows['time'] = le_times.transform(flows['interval_begin'])"
   ]
  },
  {
   "cell_type": "code",
   "execution_count": 32,
   "metadata": {},
   "outputs": [],
   "source": [
    "flows['vehicles_number'] = flows['edge_departed'] + flows['edge_entered']"
   ]
  },
  {
   "cell_type": "code",
   "execution_count": 33,
   "metadata": {},
   "outputs": [],
   "source": [
    "flows[['sim_id', 'time', 'x', 'y', 'vehicles_number']].to_csv('flows.csv', index=False)"
   ]
  },
  {
   "cell_type": "code",
   "execution_count": 73,
   "metadata": {},
   "outputs": [
    {
     "data": {
      "text/html": [
       "<div>\n",
       "<style scoped>\n",
       "    .dataframe tbody tr th:only-of-type {\n",
       "        vertical-align: middle;\n",
       "    }\n",
       "\n",
       "    .dataframe tbody tr th {\n",
       "        vertical-align: top;\n",
       "    }\n",
       "\n",
       "    .dataframe thead th {\n",
       "        text-align: right;\n",
       "    }\n",
       "</style>\n",
       "<table border=\"1\" class=\"dataframe\">\n",
       "  <thead>\n",
       "    <tr style=\"text-align: right;\">\n",
       "      <th></th>\n",
       "      <th>interval_begin</th>\n",
       "      <th>interval_end</th>\n",
       "      <th>interval_id</th>\n",
       "      <th>edge_arrived</th>\n",
       "      <th>edge_density</th>\n",
       "      <th>edge_departed</th>\n",
       "      <th>edge_entered</th>\n",
       "      <th>edge_id</th>\n",
       "      <th>edge_laneChangedFrom</th>\n",
       "      <th>edge_laneChangedTo</th>\n",
       "      <th>...</th>\n",
       "      <th>edge_overlapTraveltime</th>\n",
       "      <th>edge_sampledSeconds</th>\n",
       "      <th>edge_speed</th>\n",
       "      <th>edge_traveltime</th>\n",
       "      <th>edge_waitingTime</th>\n",
       "      <th>sim_id</th>\n",
       "      <th>x</th>\n",
       "      <th>y</th>\n",
       "      <th>time</th>\n",
       "      <th>vehicles_number</th>\n",
       "    </tr>\n",
       "  </thead>\n",
       "  <tbody>\n",
       "    <tr>\n",
       "      <th>0</th>\n",
       "      <td>0.0</td>\n",
       "      <td>500.0</td>\n",
       "      <td>d2</td>\n",
       "      <td>2</td>\n",
       "      <td>8.31</td>\n",
       "      <td>1</td>\n",
       "      <td>12</td>\n",
       "      <td>-102843056#0</td>\n",
       "      <td>4</td>\n",
       "      <td>4</td>\n",
       "      <td>...</td>\n",
       "      <td>36.55</td>\n",
       "      <td>472.50</td>\n",
       "      <td>3.25</td>\n",
       "      <td>35.01</td>\n",
       "      <td>297.0</td>\n",
       "      <td>0</td>\n",
       "      <td>811</td>\n",
       "      <td>564</td>\n",
       "      <td>0</td>\n",
       "      <td>13</td>\n",
       "    </tr>\n",
       "    <tr>\n",
       "      <th>1</th>\n",
       "      <td>500.0</td>\n",
       "      <td>1000.0</td>\n",
       "      <td>d2</td>\n",
       "      <td>1</td>\n",
       "      <td>5.59</td>\n",
       "      <td>1</td>\n",
       "      <td>8</td>\n",
       "      <td>-102843056#0</td>\n",
       "      <td>0</td>\n",
       "      <td>0</td>\n",
       "      <td>...</td>\n",
       "      <td>35.49</td>\n",
       "      <td>317.89</td>\n",
       "      <td>3.34</td>\n",
       "      <td>34.40</td>\n",
       "      <td>201.0</td>\n",
       "      <td>0</td>\n",
       "      <td>811</td>\n",
       "      <td>564</td>\n",
       "      <td>1</td>\n",
       "      <td>9</td>\n",
       "    </tr>\n",
       "    <tr>\n",
       "      <th>2</th>\n",
       "      <td>1000.0</td>\n",
       "      <td>1500.0</td>\n",
       "      <td>d2</td>\n",
       "      <td>1</td>\n",
       "      <td>0.95</td>\n",
       "      <td>0</td>\n",
       "      <td>2</td>\n",
       "      <td>-102843056#0</td>\n",
       "      <td>1</td>\n",
       "      <td>1</td>\n",
       "      <td>...</td>\n",
       "      <td>27.91</td>\n",
       "      <td>53.96</td>\n",
       "      <td>4.25</td>\n",
       "      <td>26.85</td>\n",
       "      <td>30.0</td>\n",
       "      <td>0</td>\n",
       "      <td>811</td>\n",
       "      <td>564</td>\n",
       "      <td>2</td>\n",
       "      <td>2</td>\n",
       "    </tr>\n",
       "    <tr>\n",
       "      <th>3</th>\n",
       "      <td>1500.0</td>\n",
       "      <td>2000.0</td>\n",
       "      <td>d2</td>\n",
       "      <td>0</td>\n",
       "      <td>3.97</td>\n",
       "      <td>2</td>\n",
       "      <td>3</td>\n",
       "      <td>-102843056#0</td>\n",
       "      <td>2</td>\n",
       "      <td>2</td>\n",
       "      <td>...</td>\n",
       "      <td>45.44</td>\n",
       "      <td>225.60</td>\n",
       "      <td>2.61</td>\n",
       "      <td>43.40</td>\n",
       "      <td>151.0</td>\n",
       "      <td>0</td>\n",
       "      <td>811</td>\n",
       "      <td>564</td>\n",
       "      <td>3</td>\n",
       "      <td>5</td>\n",
       "    </tr>\n",
       "    <tr>\n",
       "      <th>4</th>\n",
       "      <td>0.0</td>\n",
       "      <td>500.0</td>\n",
       "      <td>d2</td>\n",
       "      <td>0</td>\n",
       "      <td>5.07</td>\n",
       "      <td>0</td>\n",
       "      <td>8</td>\n",
       "      <td>-102843056#0</td>\n",
       "      <td>5</td>\n",
       "      <td>5</td>\n",
       "      <td>...</td>\n",
       "      <td>36.01</td>\n",
       "      <td>288.10</td>\n",
       "      <td>3.30</td>\n",
       "      <td>34.69</td>\n",
       "      <td>176.0</td>\n",
       "      <td>1</td>\n",
       "      <td>811</td>\n",
       "      <td>564</td>\n",
       "      <td>0</td>\n",
       "      <td>8</td>\n",
       "    </tr>\n",
       "  </tbody>\n",
       "</table>\n",
       "<p>5 rows × 22 columns</p>\n",
       "</div>"
      ],
      "text/plain": [
       "   interval_begin  interval_end interval_id  edge_arrived  edge_density  \\\n",
       "0             0.0         500.0          d2             2          8.31   \n",
       "1           500.0        1000.0          d2             1          5.59   \n",
       "2          1000.0        1500.0          d2             1          0.95   \n",
       "3          1500.0        2000.0          d2             0          3.97   \n",
       "4             0.0         500.0          d2             0          5.07   \n",
       "\n",
       "   edge_departed  edge_entered       edge_id  edge_laneChangedFrom  \\\n",
       "0              1            12  -102843056#0                     4   \n",
       "1              1             8  -102843056#0                     0   \n",
       "2              0             2  -102843056#0                     1   \n",
       "3              2             3  -102843056#0                     2   \n",
       "4              0             8  -102843056#0                     5   \n",
       "\n",
       "   edge_laneChangedTo       ...         edge_overlapTraveltime  \\\n",
       "0                   4       ...                          36.55   \n",
       "1                   0       ...                          35.49   \n",
       "2                   1       ...                          27.91   \n",
       "3                   2       ...                          45.44   \n",
       "4                   5       ...                          36.01   \n",
       "\n",
       "   edge_sampledSeconds  edge_speed  edge_traveltime  edge_waitingTime  sim_id  \\\n",
       "0               472.50        3.25            35.01             297.0       0   \n",
       "1               317.89        3.34            34.40             201.0       0   \n",
       "2                53.96        4.25            26.85              30.0       0   \n",
       "3               225.60        2.61            43.40             151.0       0   \n",
       "4               288.10        3.30            34.69             176.0       1   \n",
       "\n",
       "     x    y  time  vehicles_number  \n",
       "0  811  564     0               13  \n",
       "1  811  564     1                9  \n",
       "2  811  564     2                2  \n",
       "3  811  564     3                5  \n",
       "4  811  564     0                8  \n",
       "\n",
       "[5 rows x 22 columns]"
      ]
     },
     "execution_count": 73,
     "metadata": {},
     "output_type": "execute_result"
    }
   ],
   "source": [
    "flows.head()"
   ]
  },
  {
   "cell_type": "code",
   "execution_count": 9,
   "metadata": {},
   "outputs": [],
   "source": [
    "from scipy import sparse"
   ]
  },
  {
   "cell_type": "code",
   "execution_count": 33,
   "metadata": {},
   "outputs": [],
   "source": [
    "flows_matrix = tf.SparseTensor(\n",
    "    indices=flows[['time','edge_id']].values, \n",
    "    values=flows['vehicles_number'].values, \n",
    "    dense_shape=[flows['time'].max()+1, flows['edge_id'].max()+1]\n",
    ")"
   ]
  },
  {
   "cell_type": "code",
   "execution_count": 12,
   "metadata": {},
   "outputs": [],
   "source": [
    "# flows_matrix = sparse.coo_matrix(\n",
    "#     (flows['vehicles_number'].values,\n",
    "#      (\n",
    "#          flows['time'].values,\n",
    "#          flows['edge_id'].values\n",
    "#      )\n",
    "#     ), \n",
    "#     shape=(flows['time'].max()+1, flows['edge_id'].max()+1)\n",
    "#   )"
   ]
  },
  {
   "cell_type": "markdown",
   "metadata": {},
   "source": [
    "Naive check"
   ]
  },
  {
   "cell_type": "code",
   "execution_count": 38,
   "metadata": {},
   "outputs": [],
   "source": [
    "import xml.etree.ElementTree as ET"
   ]
  },
  {
   "cell_type": "code",
   "execution_count": 10,
   "metadata": {},
   "outputs": [],
   "source": [
    "trips_path = 'data/trips.trips.xml'"
   ]
  },
  {
   "cell_type": "code",
   "execution_count": 11,
   "metadata": {},
   "outputs": [],
   "source": [
    "trips_filenames = glob('simulation_data/trips/*.xml')\n",
    "trips_data = []\n",
    "\n",
    "for i, trips_path in enumerate(trips_filenames):\n",
    "    trips_xml = ET.parse(trips_path) \n",
    "    root = trips_xml.getroot()\n",
    "\n",
    "    for trip in root.iter('trip'):\n",
    "        trips_data.append([int(i), trip.attrib['id'], float(trip.attrib['depart']), trip.attrib['from'], trip.attrib['to']])"
   ]
  },
  {
   "cell_type": "code",
   "execution_count": 15,
   "metadata": {},
   "outputs": [],
   "source": [
    "trips = pd.DataFrame(trips_data, columns=['sim_id', 'id', 'depart', 'from', 'to'])"
   ]
  },
  {
   "cell_type": "code",
   "execution_count": 17,
   "metadata": {},
   "outputs": [
    {
     "data": {
      "text/html": [
       "<div>\n",
       "<style scoped>\n",
       "    .dataframe tbody tr th:only-of-type {\n",
       "        vertical-align: middle;\n",
       "    }\n",
       "\n",
       "    .dataframe tbody tr th {\n",
       "        vertical-align: top;\n",
       "    }\n",
       "\n",
       "    .dataframe thead th {\n",
       "        text-align: right;\n",
       "    }\n",
       "</style>\n",
       "<table border=\"1\" class=\"dataframe\">\n",
       "  <thead>\n",
       "    <tr style=\"text-align: right;\">\n",
       "      <th></th>\n",
       "      <th>sim_id</th>\n",
       "      <th>id</th>\n",
       "      <th>depart</th>\n",
       "      <th>from</th>\n",
       "      <th>to</th>\n",
       "    </tr>\n",
       "  </thead>\n",
       "  <tbody>\n",
       "    <tr>\n",
       "      <th>0</th>\n",
       "      <td>0</td>\n",
       "      <td>0</td>\n",
       "      <td>0.0</td>\n",
       "      <td>27695728#2</td>\n",
       "      <td>466431903#1</td>\n",
       "    </tr>\n",
       "    <tr>\n",
       "      <th>1</th>\n",
       "      <td>0</td>\n",
       "      <td>1</td>\n",
       "      <td>1.0</td>\n",
       "      <td>26445205#0</td>\n",
       "      <td>466530617</td>\n",
       "    </tr>\n",
       "    <tr>\n",
       "      <th>2</th>\n",
       "      <td>0</td>\n",
       "      <td>2</td>\n",
       "      <td>2.0</td>\n",
       "      <td>26445207#1</td>\n",
       "      <td>-318981233#2</td>\n",
       "    </tr>\n",
       "    <tr>\n",
       "      <th>3</th>\n",
       "      <td>0</td>\n",
       "      <td>3</td>\n",
       "      <td>3.0</td>\n",
       "      <td>-307951677#0</td>\n",
       "      <td>27766851</td>\n",
       "    </tr>\n",
       "    <tr>\n",
       "      <th>4</th>\n",
       "      <td>0</td>\n",
       "      <td>4</td>\n",
       "      <td>4.0</td>\n",
       "      <td>27771847#1</td>\n",
       "      <td>135778388</td>\n",
       "    </tr>\n",
       "  </tbody>\n",
       "</table>\n",
       "</div>"
      ],
      "text/plain": [
       "   sim_id id  depart          from            to\n",
       "0       0  0     0.0    27695728#2   466431903#1\n",
       "1       0  1     1.0    26445205#0     466530617\n",
       "2       0  2     2.0    26445207#1  -318981233#2\n",
       "3       0  3     3.0  -307951677#0      27766851\n",
       "4       0  4     4.0    27771847#1     135778388"
      ]
     },
     "execution_count": 17,
     "metadata": {},
     "output_type": "execute_result"
    }
   ],
   "source": [
    "trips.head()"
   ]
  },
  {
   "cell_type": "code",
   "execution_count": 18,
   "metadata": {},
   "outputs": [
    {
     "ename": "ValueError",
     "evalue": "Buffer dtype mismatch, expected 'Python object' but got 'long'",
     "output_type": "error",
     "traceback": [
      "\u001b[0;31m---------------------------------------------------------------------------\u001b[0m",
      "\u001b[0;31mValueError\u001b[0m                                Traceback (most recent call last)",
      "\u001b[0;31mValueError\u001b[0m: Buffer dtype mismatch, expected 'Python object' but got 'long'"
     ]
    },
    {
     "name": "stderr",
     "output_type": "stream",
     "text": [
      "Exception ignored in: 'pandas._libs.lib.is_bool_array'\n",
      "ValueError: Buffer dtype mismatch, expected 'Python object' but got 'long'\n"
     ]
    },
    {
     "ename": "ValueError",
     "evalue": "Buffer dtype mismatch, expected 'Python object' but got 'long'",
     "output_type": "error",
     "traceback": [
      "\u001b[0;31m---------------------------------------------------------------------------\u001b[0m",
      "\u001b[0;31mValueError\u001b[0m                                Traceback (most recent call last)",
      "\u001b[0;31mValueError\u001b[0m: Buffer dtype mismatch, expected 'Python object' but got 'long'"
     ]
    },
    {
     "name": "stderr",
     "output_type": "stream",
     "text": [
      "Exception ignored in: 'pandas._libs.lib.is_bool_array'\n",
      "ValueError: Buffer dtype mismatch, expected 'Python object' but got 'long'\n"
     ]
    }
   ],
   "source": [
    "trips = trips.merge(edges_coords, left_on='from', right_on='edge_id', suffixes=('_trips', '_from'))"
   ]
  },
  {
   "cell_type": "code",
   "execution_count": 19,
   "metadata": {},
   "outputs": [
    {
     "ename": "ValueError",
     "evalue": "Buffer dtype mismatch, expected 'Python object' but got 'long'",
     "output_type": "error",
     "traceback": [
      "\u001b[0;31m---------------------------------------------------------------------------\u001b[0m",
      "\u001b[0;31mValueError\u001b[0m                                Traceback (most recent call last)",
      "\u001b[0;31mValueError\u001b[0m: Buffer dtype mismatch, expected 'Python object' but got 'long'"
     ]
    },
    {
     "name": "stderr",
     "output_type": "stream",
     "text": [
      "Exception ignored in: 'pandas._libs.lib.is_bool_array'\n",
      "ValueError: Buffer dtype mismatch, expected 'Python object' but got 'long'\n"
     ]
    },
    {
     "ename": "ValueError",
     "evalue": "Buffer dtype mismatch, expected 'Python object' but got 'long'",
     "output_type": "error",
     "traceback": [
      "\u001b[0;31m---------------------------------------------------------------------------\u001b[0m",
      "\u001b[0;31mValueError\u001b[0m                                Traceback (most recent call last)",
      "\u001b[0;31mValueError\u001b[0m: Buffer dtype mismatch, expected 'Python object' but got 'long'"
     ]
    },
    {
     "name": "stderr",
     "output_type": "stream",
     "text": [
      "Exception ignored in: 'pandas._libs.lib.is_bool_array'\n",
      "ValueError: Buffer dtype mismatch, expected 'Python object' but got 'long'\n"
     ]
    },
    {
     "ename": "ValueError",
     "evalue": "Buffer dtype mismatch, expected 'Python object' but got 'long'",
     "output_type": "error",
     "traceback": [
      "\u001b[0;31m---------------------------------------------------------------------------\u001b[0m",
      "\u001b[0;31mValueError\u001b[0m                                Traceback (most recent call last)",
      "\u001b[0;31mValueError\u001b[0m: Buffer dtype mismatch, expected 'Python object' but got 'long'"
     ]
    },
    {
     "name": "stderr",
     "output_type": "stream",
     "text": [
      "Exception ignored in: 'pandas._libs.lib.is_bool_array'\n",
      "ValueError: Buffer dtype mismatch, expected 'Python object' but got 'long'\n"
     ]
    },
    {
     "ename": "ValueError",
     "evalue": "Buffer dtype mismatch, expected 'Python object' but got 'long'",
     "output_type": "error",
     "traceback": [
      "\u001b[0;31m---------------------------------------------------------------------------\u001b[0m",
      "\u001b[0;31mValueError\u001b[0m                                Traceback (most recent call last)",
      "\u001b[0;31mValueError\u001b[0m: Buffer dtype mismatch, expected 'Python object' but got 'long'"
     ]
    },
    {
     "name": "stderr",
     "output_type": "stream",
     "text": [
      "Exception ignored in: 'pandas._libs.lib.is_bool_array'\n",
      "ValueError: Buffer dtype mismatch, expected 'Python object' but got 'long'\n"
     ]
    }
   ],
   "source": [
    "trips = trips.merge(edges_coords, left_on='to', right_on='edge_id', suffixes=('_trips', '_to'))"
   ]
  },
  {
   "cell_type": "code",
   "execution_count": 21,
   "metadata": {},
   "outputs": [],
   "source": [
    "trips.rename(columns={\"x_trips\": \"x_from\", \"y_trips\": \"y_from\"}, inplace=True)"
   ]
  },
  {
   "cell_type": "code",
   "execution_count": 22,
   "metadata": {},
   "outputs": [
    {
     "data": {
      "text/html": [
       "<div>\n",
       "<style scoped>\n",
       "    .dataframe tbody tr th:only-of-type {\n",
       "        vertical-align: middle;\n",
       "    }\n",
       "\n",
       "    .dataframe tbody tr th {\n",
       "        vertical-align: top;\n",
       "    }\n",
       "\n",
       "    .dataframe thead th {\n",
       "        text-align: right;\n",
       "    }\n",
       "</style>\n",
       "<table border=\"1\" class=\"dataframe\">\n",
       "  <thead>\n",
       "    <tr style=\"text-align: right;\">\n",
       "      <th></th>\n",
       "      <th>sim_id</th>\n",
       "      <th>id</th>\n",
       "      <th>depart</th>\n",
       "      <th>from</th>\n",
       "      <th>to</th>\n",
       "      <th>edge_id_trips</th>\n",
       "      <th>x_from</th>\n",
       "      <th>y_from</th>\n",
       "      <th>edge_id_to</th>\n",
       "      <th>x_to</th>\n",
       "      <th>y_to</th>\n",
       "    </tr>\n",
       "  </thead>\n",
       "  <tbody>\n",
       "    <tr>\n",
       "      <th>0</th>\n",
       "      <td>0</td>\n",
       "      <td>0</td>\n",
       "      <td>0.0</td>\n",
       "      <td>27695728#2</td>\n",
       "      <td>466431903#1</td>\n",
       "      <td>27695728#2</td>\n",
       "      <td>11</td>\n",
       "      <td>6</td>\n",
       "      <td>466431903#1</td>\n",
       "      <td>4</td>\n",
       "      <td>6</td>\n",
       "    </tr>\n",
       "    <tr>\n",
       "      <th>1</th>\n",
       "      <td>337</td>\n",
       "      <td>824</td>\n",
       "      <td>824.0</td>\n",
       "      <td>27695728#2</td>\n",
       "      <td>466431903#1</td>\n",
       "      <td>27695728#2</td>\n",
       "      <td>11</td>\n",
       "      <td>6</td>\n",
       "      <td>466431903#1</td>\n",
       "      <td>4</td>\n",
       "      <td>6</td>\n",
       "    </tr>\n",
       "    <tr>\n",
       "      <th>2</th>\n",
       "      <td>464</td>\n",
       "      <td>990</td>\n",
       "      <td>990.0</td>\n",
       "      <td>27695728#2</td>\n",
       "      <td>466431903#1</td>\n",
       "      <td>27695728#2</td>\n",
       "      <td>11</td>\n",
       "      <td>6</td>\n",
       "      <td>466431903#1</td>\n",
       "      <td>4</td>\n",
       "      <td>6</td>\n",
       "    </tr>\n",
       "    <tr>\n",
       "      <th>3</th>\n",
       "      <td>3</td>\n",
       "      <td>790</td>\n",
       "      <td>790.0</td>\n",
       "      <td>26445205#0</td>\n",
       "      <td>466431903#1</td>\n",
       "      <td>26445205#0</td>\n",
       "      <td>3</td>\n",
       "      <td>14</td>\n",
       "      <td>466431903#1</td>\n",
       "      <td>4</td>\n",
       "      <td>6</td>\n",
       "    </tr>\n",
       "    <tr>\n",
       "      <th>4</th>\n",
       "      <td>282</td>\n",
       "      <td>26</td>\n",
       "      <td>26.0</td>\n",
       "      <td>26445205#0</td>\n",
       "      <td>466431903#1</td>\n",
       "      <td>26445205#0</td>\n",
       "      <td>3</td>\n",
       "      <td>14</td>\n",
       "      <td>466431903#1</td>\n",
       "      <td>4</td>\n",
       "      <td>6</td>\n",
       "    </tr>\n",
       "  </tbody>\n",
       "</table>\n",
       "</div>"
      ],
      "text/plain": [
       "   sim_id   id  depart        from           to edge_id_trips x_from y_from  \\\n",
       "0       0    0     0.0  27695728#2  466431903#1    27695728#2     11      6   \n",
       "1     337  824   824.0  27695728#2  466431903#1    27695728#2     11      6   \n",
       "2     464  990   990.0  27695728#2  466431903#1    27695728#2     11      6   \n",
       "3       3  790   790.0  26445205#0  466431903#1    26445205#0      3     14   \n",
       "4     282   26    26.0  26445205#0  466431903#1    26445205#0      3     14   \n",
       "\n",
       "    edge_id_to x_to y_to  \n",
       "0  466431903#1    4    6  \n",
       "1  466431903#1    4    6  \n",
       "2  466431903#1    4    6  \n",
       "3  466431903#1    4    6  \n",
       "4  466431903#1    4    6  "
      ]
     },
     "execution_count": 22,
     "metadata": {},
     "output_type": "execute_result"
    }
   ],
   "source": [
    "trips.head()"
   ]
  },
  {
   "cell_type": "code",
   "execution_count": 30,
   "metadata": {},
   "outputs": [],
   "source": [
    "trips['cell_from'] =  trips['x_from'].astype(str).str.cat(trips['y_from'].astype(str), sep=\"_\")\n",
    "trips['cell_to'] =  trips['x_to'].astype(str).str.cat(trips['y_to'].astype(str), sep=\"_\")"
   ]
  },
  {
   "cell_type": "code",
   "execution_count": null,
   "metadata": {},
   "outputs": [],
   "source": [
    "trips['sim_id', 'id'].to_csv('trips.csv', index=False)"
   ]
  },
  {
   "cell_type": "code",
   "execution_count": null,
   "metadata": {},
   "outputs": [],
   "source": [
    "le_cells = preprocessing.LabelEncoder()\n",
    "le_cells.fit(np.unique(trips[['cell_from', 'cell_to']].values))\n",
    "flows['cell_from'] = le_times.transform(flows['cell_from'])\n",
    "flows['cell_to'] = le_times.transform(flows['cell_to'])"
   ]
  },
  {
   "cell_type": "code",
   "execution_count": 17,
   "metadata": {},
   "outputs": [],
   "source": [
    "import numpy as np"
   ]
  },
  {
   "cell_type": "code",
   "execution_count": 31,
   "metadata": {},
   "outputs": [
    {
     "data": {
      "text/plain": [
       "LabelEncoder()"
      ]
     },
     "execution_count": 31,
     "metadata": {},
     "output_type": "execute_result"
    }
   ],
   "source": [
    "le_edges = preprocessing.LabelEncoder()\n",
    "le_edges.fit(np.unique(trips[['from', 'to']].values))"
   ]
  },
  {
   "cell_type": "code",
   "execution_count": 34,
   "metadata": {},
   "outputs": [],
   "source": [
    "trips['time'] = le_times.transform(np.floor(trips['depart'] / 500) * 500)\n",
    "# trips['from'] = le_edges.transform(trips['from'])\n",
    "# trips['to'] = le_edges.transform(trips['to'])"
   ]
  },
  {
   "cell_type": "code",
   "execution_count": 35,
   "metadata": {},
   "outputs": [
    {
     "data": {
      "text/html": [
       "<div>\n",
       "<style scoped>\n",
       "    .dataframe tbody tr th:only-of-type {\n",
       "        vertical-align: middle;\n",
       "    }\n",
       "\n",
       "    .dataframe tbody tr th {\n",
       "        vertical-align: top;\n",
       "    }\n",
       "\n",
       "    .dataframe thead th {\n",
       "        text-align: right;\n",
       "    }\n",
       "</style>\n",
       "<table border=\"1\" class=\"dataframe\">\n",
       "  <thead>\n",
       "    <tr style=\"text-align: right;\">\n",
       "      <th></th>\n",
       "      <th>sim_id</th>\n",
       "      <th>id</th>\n",
       "      <th>depart</th>\n",
       "      <th>from</th>\n",
       "      <th>to</th>\n",
       "      <th>edge_id_trips</th>\n",
       "      <th>x_from</th>\n",
       "      <th>y_from</th>\n",
       "      <th>edge_id_to</th>\n",
       "      <th>x_to</th>\n",
       "      <th>y_to</th>\n",
       "      <th>cell_from</th>\n",
       "      <th>cell_to</th>\n",
       "      <th>time</th>\n",
       "    </tr>\n",
       "  </thead>\n",
       "  <tbody>\n",
       "    <tr>\n",
       "      <th>0</th>\n",
       "      <td>0</td>\n",
       "      <td>0</td>\n",
       "      <td>0.0</td>\n",
       "      <td>27695728#2</td>\n",
       "      <td>466431903#1</td>\n",
       "      <td>27695728#2</td>\n",
       "      <td>11</td>\n",
       "      <td>6</td>\n",
       "      <td>466431903#1</td>\n",
       "      <td>4</td>\n",
       "      <td>6</td>\n",
       "      <td>11_6</td>\n",
       "      <td>4_6</td>\n",
       "      <td>0</td>\n",
       "    </tr>\n",
       "    <tr>\n",
       "      <th>1</th>\n",
       "      <td>337</td>\n",
       "      <td>824</td>\n",
       "      <td>824.0</td>\n",
       "      <td>27695728#2</td>\n",
       "      <td>466431903#1</td>\n",
       "      <td>27695728#2</td>\n",
       "      <td>11</td>\n",
       "      <td>6</td>\n",
       "      <td>466431903#1</td>\n",
       "      <td>4</td>\n",
       "      <td>6</td>\n",
       "      <td>11_6</td>\n",
       "      <td>4_6</td>\n",
       "      <td>1</td>\n",
       "    </tr>\n",
       "    <tr>\n",
       "      <th>2</th>\n",
       "      <td>464</td>\n",
       "      <td>990</td>\n",
       "      <td>990.0</td>\n",
       "      <td>27695728#2</td>\n",
       "      <td>466431903#1</td>\n",
       "      <td>27695728#2</td>\n",
       "      <td>11</td>\n",
       "      <td>6</td>\n",
       "      <td>466431903#1</td>\n",
       "      <td>4</td>\n",
       "      <td>6</td>\n",
       "      <td>11_6</td>\n",
       "      <td>4_6</td>\n",
       "      <td>1</td>\n",
       "    </tr>\n",
       "    <tr>\n",
       "      <th>3</th>\n",
       "      <td>3</td>\n",
       "      <td>790</td>\n",
       "      <td>790.0</td>\n",
       "      <td>26445205#0</td>\n",
       "      <td>466431903#1</td>\n",
       "      <td>26445205#0</td>\n",
       "      <td>3</td>\n",
       "      <td>14</td>\n",
       "      <td>466431903#1</td>\n",
       "      <td>4</td>\n",
       "      <td>6</td>\n",
       "      <td>3_14</td>\n",
       "      <td>4_6</td>\n",
       "      <td>1</td>\n",
       "    </tr>\n",
       "    <tr>\n",
       "      <th>4</th>\n",
       "      <td>282</td>\n",
       "      <td>26</td>\n",
       "      <td>26.0</td>\n",
       "      <td>26445205#0</td>\n",
       "      <td>466431903#1</td>\n",
       "      <td>26445205#0</td>\n",
       "      <td>3</td>\n",
       "      <td>14</td>\n",
       "      <td>466431903#1</td>\n",
       "      <td>4</td>\n",
       "      <td>6</td>\n",
       "      <td>3_14</td>\n",
       "      <td>4_6</td>\n",
       "      <td>0</td>\n",
       "    </tr>\n",
       "  </tbody>\n",
       "</table>\n",
       "</div>"
      ],
      "text/plain": [
       "   sim_id   id  depart        from           to edge_id_trips x_from y_from  \\\n",
       "0       0    0     0.0  27695728#2  466431903#1    27695728#2     11      6   \n",
       "1     337  824   824.0  27695728#2  466431903#1    27695728#2     11      6   \n",
       "2     464  990   990.0  27695728#2  466431903#1    27695728#2     11      6   \n",
       "3       3  790   790.0  26445205#0  466431903#1    26445205#0      3     14   \n",
       "4     282   26    26.0  26445205#0  466431903#1    26445205#0      3     14   \n",
       "\n",
       "    edge_id_to x_to y_to cell_from cell_to  time  \n",
       "0  466431903#1    4    6      11_6     4_6     0  \n",
       "1  466431903#1    4    6      11_6     4_6     1  \n",
       "2  466431903#1    4    6      11_6     4_6     1  \n",
       "3  466431903#1    4    6      3_14     4_6     1  \n",
       "4  466431903#1    4    6      3_14     4_6     0  "
      ]
     },
     "execution_count": 35,
     "metadata": {},
     "output_type": "execute_result"
    }
   ],
   "source": [
    "trips.head()"
   ]
  },
  {
   "cell_type": "code",
   "execution_count": 36,
   "metadata": {},
   "outputs": [],
   "source": [
    "trips[['sim_id', 'time', 'x_from', 'y_from', 'x_to', 'y_to']].to_csv('trips.csv', index=False)"
   ]
  },
  {
   "cell_type": "code",
   "execution_count": 29,
   "metadata": {},
   "outputs": [
    {
     "data": {
      "text/plain": [
       "3362"
      ]
     },
     "execution_count": 29,
     "metadata": {},
     "output_type": "execute_result"
    }
   ],
   "source": [
    "trips[['from','to']].values.max()"
   ]
  },
  {
   "cell_type": "code",
   "execution_count": 26,
   "metadata": {},
   "outputs": [],
   "source": [
    "import tensorflow as tf"
   ]
  },
  {
   "cell_type": "code",
   "execution_count": 31,
   "metadata": {},
   "outputs": [],
   "source": [
    "trips_matrix = tf.SparseTensor(\n",
    "    indices=trips[['time','from','to']].values, \n",
    "    values=np.ones(trips.shape[0]), \n",
    "    dense_shape=[trips['time'].max()+1, trips[['from','to']].values.max(), trips[['from','to']].values.max()]\n",
    ")\n",
    "\n",
    "# sparse.coo_matrix(\n",
    "#     (np.ones(trips.shape[0]),\n",
    "#      (\n",
    "#          trips['time'].values,\n",
    "#          trips['from'].values,\n",
    "#          trips['to'].values\n",
    "#      )\n",
    "#     ), \n",
    "#     shape=(trips['time'].max()+1, trips['from'].max()+1, trips['to'].max()+1 )\n",
    "#   )"
   ]
  },
  {
   "cell_type": "code",
   "execution_count": 32,
   "metadata": {},
   "outputs": [
    {
     "data": {
      "text/plain": [
       "<tensorflow.python.framework.sparse_tensor.SparseTensor at 0x1215ce048>"
      ]
     },
     "execution_count": 32,
     "metadata": {},
     "output_type": "execute_result"
    }
   ],
   "source": []
  },
  {
   "cell_type": "code",
   "execution_count": 16,
   "metadata": {},
   "outputs": [
    {
     "name": "stderr",
     "output_type": "stream",
     "text": [
      "C:\\Users\\crm0376\\.local\\conda_root\\lib\\site-packages\\IPython\\core\\interactiveshell.py:3063: DtypeWarning: Columns (7,11,14,16) have mixed types.Specify dtype option on import or set low_memory=False.\n",
      "  interactivity=interactivity, compiler=compiler, result=result)\n"
     ]
    },
    {
     "ename": "KeyboardInterrupt",
     "evalue": "",
     "output_type": "error",
     "traceback": [
      "\u001b[1;31m---------------------------------------------------------------------------\u001b[0m",
      "\u001b[1;31mKeyboardInterrupt\u001b[0m                         Traceback (most recent call last)",
      "\u001b[1;32m<ipython-input-16-8e9815e74320>\u001b[0m in \u001b[0;36m<module>\u001b[1;34m\u001b[0m\n\u001b[0;32m      2\u001b[0m \u001b[1;32mimport\u001b[0m \u001b[0mnumpy\u001b[0m \u001b[1;32mas\u001b[0m \u001b[0mnp\u001b[0m\u001b[1;33m\u001b[0m\u001b[1;33m\u001b[0m\u001b[0m\n\u001b[0;32m      3\u001b[0m \u001b[1;33m\u001b[0m\u001b[0m\n\u001b[1;32m----> 4\u001b[1;33m \u001b[0mdf\u001b[0m \u001b[1;33m=\u001b[0m \u001b[0mpd\u001b[0m\u001b[1;33m.\u001b[0m\u001b[0mread_csv\u001b[0m\u001b[1;33m(\u001b[0m\u001b[1;34m'results.csv'\u001b[0m\u001b[1;33m)\u001b[0m\u001b[1;33m\u001b[0m\u001b[1;33m\u001b[0m\u001b[0m\n\u001b[0m\u001b[0;32m      5\u001b[0m \u001b[1;33m\u001b[0m\u001b[0m\n\u001b[0;32m      6\u001b[0m \u001b[1;31m# drop node and NANs\u001b[0m\u001b[1;33m\u001b[0m\u001b[1;33m\u001b[0m\u001b[1;33m\u001b[0m\u001b[0m\n",
      "\u001b[1;32m~\\.local\\conda_root\\lib\\site-packages\\pandas\\io\\parsers.py\u001b[0m in \u001b[0;36mparser_f\u001b[1;34m(filepath_or_buffer, sep, delimiter, header, names, index_col, usecols, squeeze, prefix, mangle_dupe_cols, dtype, engine, converters, true_values, false_values, skipinitialspace, skiprows, skipfooter, nrows, na_values, keep_default_na, na_filter, verbose, skip_blank_lines, parse_dates, infer_datetime_format, keep_date_col, date_parser, dayfirst, cache_dates, iterator, chunksize, compression, thousands, decimal, lineterminator, quotechar, quoting, doublequote, escapechar, comment, encoding, dialect, error_bad_lines, warn_bad_lines, delim_whitespace, low_memory, memory_map, float_precision)\u001b[0m\n\u001b[0;32m    674\u001b[0m         )\n\u001b[0;32m    675\u001b[0m \u001b[1;33m\u001b[0m\u001b[0m\n\u001b[1;32m--> 676\u001b[1;33m         \u001b[1;32mreturn\u001b[0m \u001b[0m_read\u001b[0m\u001b[1;33m(\u001b[0m\u001b[0mfilepath_or_buffer\u001b[0m\u001b[1;33m,\u001b[0m \u001b[0mkwds\u001b[0m\u001b[1;33m)\u001b[0m\u001b[1;33m\u001b[0m\u001b[1;33m\u001b[0m\u001b[0m\n\u001b[0m\u001b[0;32m    677\u001b[0m \u001b[1;33m\u001b[0m\u001b[0m\n\u001b[0;32m    678\u001b[0m     \u001b[0mparser_f\u001b[0m\u001b[1;33m.\u001b[0m\u001b[0m__name__\u001b[0m \u001b[1;33m=\u001b[0m \u001b[0mname\u001b[0m\u001b[1;33m\u001b[0m\u001b[1;33m\u001b[0m\u001b[0m\n",
      "\u001b[1;32m~\\.local\\conda_root\\lib\\site-packages\\pandas\\io\\parsers.py\u001b[0m in \u001b[0;36m_read\u001b[1;34m(filepath_or_buffer, kwds)\u001b[0m\n\u001b[0;32m    452\u001b[0m \u001b[1;33m\u001b[0m\u001b[0m\n\u001b[0;32m    453\u001b[0m     \u001b[1;32mtry\u001b[0m\u001b[1;33m:\u001b[0m\u001b[1;33m\u001b[0m\u001b[1;33m\u001b[0m\u001b[0m\n\u001b[1;32m--> 454\u001b[1;33m         \u001b[0mdata\u001b[0m \u001b[1;33m=\u001b[0m \u001b[0mparser\u001b[0m\u001b[1;33m.\u001b[0m\u001b[0mread\u001b[0m\u001b[1;33m(\u001b[0m\u001b[0mnrows\u001b[0m\u001b[1;33m)\u001b[0m\u001b[1;33m\u001b[0m\u001b[1;33m\u001b[0m\u001b[0m\n\u001b[0m\u001b[0;32m    455\u001b[0m     \u001b[1;32mfinally\u001b[0m\u001b[1;33m:\u001b[0m\u001b[1;33m\u001b[0m\u001b[1;33m\u001b[0m\u001b[0m\n\u001b[0;32m    456\u001b[0m         \u001b[0mparser\u001b[0m\u001b[1;33m.\u001b[0m\u001b[0mclose\u001b[0m\u001b[1;33m(\u001b[0m\u001b[1;33m)\u001b[0m\u001b[1;33m\u001b[0m\u001b[1;33m\u001b[0m\u001b[0m\n",
      "\u001b[1;32m~\\.local\\conda_root\\lib\\site-packages\\pandas\\io\\parsers.py\u001b[0m in \u001b[0;36mread\u001b[1;34m(self, nrows)\u001b[0m\n\u001b[0;32m   1146\u001b[0m             \u001b[0mnew_rows\u001b[0m \u001b[1;33m=\u001b[0m \u001b[0mlen\u001b[0m\u001b[1;33m(\u001b[0m\u001b[0mindex\u001b[0m\u001b[1;33m)\u001b[0m\u001b[1;33m\u001b[0m\u001b[1;33m\u001b[0m\u001b[0m\n\u001b[0;32m   1147\u001b[0m \u001b[1;33m\u001b[0m\u001b[0m\n\u001b[1;32m-> 1148\u001b[1;33m         \u001b[0mdf\u001b[0m \u001b[1;33m=\u001b[0m \u001b[0mDataFrame\u001b[0m\u001b[1;33m(\u001b[0m\u001b[0mcol_dict\u001b[0m\u001b[1;33m,\u001b[0m \u001b[0mcolumns\u001b[0m\u001b[1;33m=\u001b[0m\u001b[0mcolumns\u001b[0m\u001b[1;33m,\u001b[0m \u001b[0mindex\u001b[0m\u001b[1;33m=\u001b[0m\u001b[0mindex\u001b[0m\u001b[1;33m)\u001b[0m\u001b[1;33m\u001b[0m\u001b[1;33m\u001b[0m\u001b[0m\n\u001b[0m\u001b[0;32m   1149\u001b[0m \u001b[1;33m\u001b[0m\u001b[0m\n\u001b[0;32m   1150\u001b[0m         \u001b[0mself\u001b[0m\u001b[1;33m.\u001b[0m\u001b[0m_currow\u001b[0m \u001b[1;33m+=\u001b[0m \u001b[0mnew_rows\u001b[0m\u001b[1;33m\u001b[0m\u001b[1;33m\u001b[0m\u001b[0m\n",
      "\u001b[1;32m~\\.local\\conda_root\\lib\\site-packages\\pandas\\core\\frame.py\u001b[0m in \u001b[0;36m__init__\u001b[1;34m(self, data, index, columns, dtype, copy)\u001b[0m\n\u001b[0;32m    433\u001b[0m             )\n\u001b[0;32m    434\u001b[0m         \u001b[1;32melif\u001b[0m \u001b[0misinstance\u001b[0m\u001b[1;33m(\u001b[0m\u001b[0mdata\u001b[0m\u001b[1;33m,\u001b[0m \u001b[0mdict\u001b[0m\u001b[1;33m)\u001b[0m\u001b[1;33m:\u001b[0m\u001b[1;33m\u001b[0m\u001b[1;33m\u001b[0m\u001b[0m\n\u001b[1;32m--> 435\u001b[1;33m             \u001b[0mmgr\u001b[0m \u001b[1;33m=\u001b[0m \u001b[0minit_dict\u001b[0m\u001b[1;33m(\u001b[0m\u001b[0mdata\u001b[0m\u001b[1;33m,\u001b[0m \u001b[0mindex\u001b[0m\u001b[1;33m,\u001b[0m \u001b[0mcolumns\u001b[0m\u001b[1;33m,\u001b[0m \u001b[0mdtype\u001b[0m\u001b[1;33m=\u001b[0m\u001b[0mdtype\u001b[0m\u001b[1;33m)\u001b[0m\u001b[1;33m\u001b[0m\u001b[1;33m\u001b[0m\u001b[0m\n\u001b[0m\u001b[0;32m    436\u001b[0m         \u001b[1;32melif\u001b[0m \u001b[0misinstance\u001b[0m\u001b[1;33m(\u001b[0m\u001b[0mdata\u001b[0m\u001b[1;33m,\u001b[0m \u001b[0mma\u001b[0m\u001b[1;33m.\u001b[0m\u001b[0mMaskedArray\u001b[0m\u001b[1;33m)\u001b[0m\u001b[1;33m:\u001b[0m\u001b[1;33m\u001b[0m\u001b[1;33m\u001b[0m\u001b[0m\n\u001b[0;32m    437\u001b[0m             \u001b[1;32mimport\u001b[0m \u001b[0mnumpy\u001b[0m\u001b[1;33m.\u001b[0m\u001b[0mma\u001b[0m\u001b[1;33m.\u001b[0m\u001b[0mmrecords\u001b[0m \u001b[1;32mas\u001b[0m \u001b[0mmrecords\u001b[0m\u001b[1;33m\u001b[0m\u001b[1;33m\u001b[0m\u001b[0m\n",
      "\u001b[1;32m~\\.local\\conda_root\\lib\\site-packages\\pandas\\core\\internals\\construction.py\u001b[0m in \u001b[0;36minit_dict\u001b[1;34m(data, index, columns, dtype)\u001b[0m\n\u001b[0;32m    252\u001b[0m             \u001b[0marr\u001b[0m \u001b[1;32mif\u001b[0m \u001b[1;32mnot\u001b[0m \u001b[0mis_datetime64tz_dtype\u001b[0m\u001b[1;33m(\u001b[0m\u001b[0marr\u001b[0m\u001b[1;33m)\u001b[0m \u001b[1;32melse\u001b[0m \u001b[0marr\u001b[0m\u001b[1;33m.\u001b[0m\u001b[0mcopy\u001b[0m\u001b[1;33m(\u001b[0m\u001b[1;33m)\u001b[0m \u001b[1;32mfor\u001b[0m \u001b[0marr\u001b[0m \u001b[1;32min\u001b[0m \u001b[0marrays\u001b[0m\u001b[1;33m\u001b[0m\u001b[1;33m\u001b[0m\u001b[0m\n\u001b[0;32m    253\u001b[0m         ]\n\u001b[1;32m--> 254\u001b[1;33m     \u001b[1;32mreturn\u001b[0m \u001b[0marrays_to_mgr\u001b[0m\u001b[1;33m(\u001b[0m\u001b[0marrays\u001b[0m\u001b[1;33m,\u001b[0m \u001b[0mdata_names\u001b[0m\u001b[1;33m,\u001b[0m \u001b[0mindex\u001b[0m\u001b[1;33m,\u001b[0m \u001b[0mcolumns\u001b[0m\u001b[1;33m,\u001b[0m \u001b[0mdtype\u001b[0m\u001b[1;33m=\u001b[0m\u001b[0mdtype\u001b[0m\u001b[1;33m)\u001b[0m\u001b[1;33m\u001b[0m\u001b[1;33m\u001b[0m\u001b[0m\n\u001b[0m\u001b[0;32m    255\u001b[0m \u001b[1;33m\u001b[0m\u001b[0m\n\u001b[0;32m    256\u001b[0m \u001b[1;33m\u001b[0m\u001b[0m\n",
      "\u001b[1;32m~\\.local\\conda_root\\lib\\site-packages\\pandas\\core\\internals\\construction.py\u001b[0m in \u001b[0;36marrays_to_mgr\u001b[1;34m(arrays, arr_names, index, columns, dtype)\u001b[0m\n\u001b[0;32m     67\u001b[0m \u001b[1;33m\u001b[0m\u001b[0m\n\u001b[0;32m     68\u001b[0m     \u001b[1;31m# don't force copy because getting jammed in an ndarray anyway\u001b[0m\u001b[1;33m\u001b[0m\u001b[1;33m\u001b[0m\u001b[1;33m\u001b[0m\u001b[0m\n\u001b[1;32m---> 69\u001b[1;33m     \u001b[0marrays\u001b[0m \u001b[1;33m=\u001b[0m \u001b[0m_homogenize\u001b[0m\u001b[1;33m(\u001b[0m\u001b[0marrays\u001b[0m\u001b[1;33m,\u001b[0m \u001b[0mindex\u001b[0m\u001b[1;33m,\u001b[0m \u001b[0mdtype\u001b[0m\u001b[1;33m)\u001b[0m\u001b[1;33m\u001b[0m\u001b[1;33m\u001b[0m\u001b[0m\n\u001b[0m\u001b[0;32m     70\u001b[0m \u001b[1;33m\u001b[0m\u001b[0m\n\u001b[0;32m     71\u001b[0m     \u001b[1;31m# from BlockManager perspective\u001b[0m\u001b[1;33m\u001b[0m\u001b[1;33m\u001b[0m\u001b[1;33m\u001b[0m\u001b[0m\n",
      "\u001b[1;32m~\\.local\\conda_root\\lib\\site-packages\\pandas\\core\\internals\\construction.py\u001b[0m in \u001b[0;36m_homogenize\u001b[1;34m(data, index, dtype)\u001b[0m\n\u001b[0;32m    321\u001b[0m                 \u001b[0mval\u001b[0m \u001b[1;33m=\u001b[0m \u001b[0mlib\u001b[0m\u001b[1;33m.\u001b[0m\u001b[0mfast_multiget\u001b[0m\u001b[1;33m(\u001b[0m\u001b[0mval\u001b[0m\u001b[1;33m,\u001b[0m \u001b[0moindex\u001b[0m\u001b[1;33m.\u001b[0m\u001b[0mvalues\u001b[0m\u001b[1;33m,\u001b[0m \u001b[0mdefault\u001b[0m\u001b[1;33m=\u001b[0m\u001b[0mnp\u001b[0m\u001b[1;33m.\u001b[0m\u001b[0mnan\u001b[0m\u001b[1;33m)\u001b[0m\u001b[1;33m\u001b[0m\u001b[1;33m\u001b[0m\u001b[0m\n\u001b[0;32m    322\u001b[0m             val = sanitize_array(\n\u001b[1;32m--> 323\u001b[1;33m                 \u001b[0mval\u001b[0m\u001b[1;33m,\u001b[0m \u001b[0mindex\u001b[0m\u001b[1;33m,\u001b[0m \u001b[0mdtype\u001b[0m\u001b[1;33m=\u001b[0m\u001b[0mdtype\u001b[0m\u001b[1;33m,\u001b[0m \u001b[0mcopy\u001b[0m\u001b[1;33m=\u001b[0m\u001b[1;32mFalse\u001b[0m\u001b[1;33m,\u001b[0m \u001b[0mraise_cast_failure\u001b[0m\u001b[1;33m=\u001b[0m\u001b[1;32mFalse\u001b[0m\u001b[1;33m\u001b[0m\u001b[1;33m\u001b[0m\u001b[0m\n\u001b[0m\u001b[0;32m    324\u001b[0m             )\n\u001b[0;32m    325\u001b[0m \u001b[1;33m\u001b[0m\u001b[0m\n",
      "\u001b[1;32m~\\.local\\conda_root\\lib\\site-packages\\pandas\\core\\construction.py\u001b[0m in \u001b[0;36msanitize_array\u001b[1;34m(data, index, dtype, copy, raise_cast_failure)\u001b[0m\n\u001b[0;32m    498\u001b[0m         \u001b[1;32mif\u001b[0m \u001b[0mis_object_dtype\u001b[0m\u001b[1;33m(\u001b[0m\u001b[0msubarr\u001b[0m\u001b[1;33m.\u001b[0m\u001b[0mdtype\u001b[0m\u001b[1;33m)\u001b[0m \u001b[1;32mand\u001b[0m \u001b[1;32mnot\u001b[0m \u001b[0mis_object_dtype\u001b[0m\u001b[1;33m(\u001b[0m\u001b[0mdtype\u001b[0m\u001b[1;33m)\u001b[0m\u001b[1;33m:\u001b[0m\u001b[1;33m\u001b[0m\u001b[1;33m\u001b[0m\u001b[0m\n\u001b[0;32m    499\u001b[0m             \u001b[0minferred\u001b[0m \u001b[1;33m=\u001b[0m \u001b[0mlib\u001b[0m\u001b[1;33m.\u001b[0m\u001b[0minfer_dtype\u001b[0m\u001b[1;33m(\u001b[0m\u001b[0msubarr\u001b[0m\u001b[1;33m,\u001b[0m \u001b[0mskipna\u001b[0m\u001b[1;33m=\u001b[0m\u001b[1;32mFalse\u001b[0m\u001b[1;33m)\u001b[0m\u001b[1;33m\u001b[0m\u001b[1;33m\u001b[0m\u001b[0m\n\u001b[1;32m--> 500\u001b[1;33m             \u001b[1;32mif\u001b[0m \u001b[0minferred\u001b[0m \u001b[1;32min\u001b[0m \u001b[1;33m{\u001b[0m\u001b[1;34m\"interval\"\u001b[0m\u001b[1;33m,\u001b[0m \u001b[1;34m\"period\"\u001b[0m\u001b[1;33m}\u001b[0m\u001b[1;33m:\u001b[0m\u001b[1;33m\u001b[0m\u001b[1;33m\u001b[0m\u001b[0m\n\u001b[0m\u001b[0;32m    501\u001b[0m                 \u001b[0msubarr\u001b[0m \u001b[1;33m=\u001b[0m \u001b[0marray\u001b[0m\u001b[1;33m(\u001b[0m\u001b[0msubarr\u001b[0m\u001b[1;33m)\u001b[0m\u001b[1;33m\u001b[0m\u001b[1;33m\u001b[0m\u001b[0m\n\u001b[0;32m    502\u001b[0m \u001b[1;33m\u001b[0m\u001b[0m\n",
      "\u001b[1;31mKeyboardInterrupt\u001b[0m: "
     ]
    }
   ],
   "source": [
    "# load data and apply some transformations to get sparse speed avg speed matrix\n",
    "import numpy as np\n",
    "\n",
    "df = pd.read_csv('results.csv')\n",
    "\n",
    "# drop node and NANs\n",
    "node_index = df[df['edge_id'].str.contains(':',na = True )].index\n",
    "df.drop(node_index, inplace=True)\n",
    "#df.dropna(how='all',inplace=True)\n",
    "\n",
    "avg_speed = df[['data_timestep','edge_id','lane_meanspeed']].groupby(['data_timestep','edge_id']).agg('mean')\n",
    "\n",
    "print(avg_speed.head(20))\n",
    "\n",
    "max_time = max(df['data_timestep'])\n",
    "bins = np.arange(0,max_time, 20)\n",
    "\n",
    "avg_speed_x20 = df[['data_timestep','edge_id','lane_meanspeed']].groupby([pd.cut(df['data_timestep'], bins),'edge_id']).agg('mean')\n",
    "print(avg_speed_x20.head(20))"
   ]
  },
  {
   "cell_type": "code",
   "execution_count": null,
   "metadata": {},
   "outputs": [],
   "source": []
  }
 ],
 "metadata": {
  "file_extension": ".py",
  "kernelspec": {
   "display_name": "Python 3",
   "language": "python",
   "name": "python3"
  },
  "language_info": {
   "codemirror_mode": {
    "name": "ipython",
    "version": 3
   },
   "file_extension": ".py",
   "mimetype": "text/x-python",
   "name": "python",
   "nbconvert_exporter": "python",
   "pygments_lexer": "ipython3",
   "version": "3.6.5"
  },
  "mimetype": "text/x-python",
  "name": "python",
  "npconvert_exporter": "python",
  "pygments_lexer": "ipython3",
  "version": 3
 },
 "nbformat": 4,
 "nbformat_minor": 2
}
